{
 "cells": [
  {
   "cell_type": "markdown",
   "metadata": {},
   "source": [
    "## Convolutional Layers in Keras\n",
    "\n",
    "To create a convolutional layer in Keras, you must first import the necessary module:\n",
    "\n",
    "\n",
    "    from keras.layers import Conv2D\n",
    "\n",
    "\n",
    "Then, you can create a convolutional layer by using the following format:\n",
    "\n",
    "    Conv2D(filters, kernel_size, strides, padding, activation='relu', input_shape)\n",
    "    \n",
    "    \n",
    "Arguments\n",
    "\n",
    "You must pass the following arguments:\n",
    "\n",
    "    filters - The number of filters.\n",
    "    kernel_size - Number specifying both the height and width of the (square) convolution window.\n",
    "\n",
    "There are some additional, optional arguments that you might like to tune:\n",
    "\n",
    "    strides - The stride of the convolution. If you don't specify anything, strides is set to 1.\n",
    "    padding - One of 'valid' or 'same'. If you don't specify anything, padding is set to 'valid'.\n",
    "    activation - Typically 'relu'. If you don't specify anything, no activation is applied. You are strongly encouraged to add a ReLU activation function to every convolutional layer in your networks.\n",
    "    \n"
   ]
  },
  {
   "cell_type": "markdown",
   "metadata": {},
   "source": [
    "Example #1\n",
    "\n",
    "Say I'm constructing a CNN, and my input layer accepts grayscale images that are 200 by 200 pixels (corresponding to a 3D array with height 200, width 200, and depth 1). Then, say I'd like the next layer to be a convolutional layer with 16 filters, each with a width and height of 2. When performing the convolution, I'd like the filter to jump two pixels at a time. I also don't want the filter to extend outside of the image boundaries; in other words, I don't want to pad the image with zeros. Then, to construct this convolutional layer, I would use the following line of code:\n",
    "\n",
    "    Conv2D(filters=16, kernel_size=2, strides=2, activation='relu', input_shape=(200, 200, 1))\n"
   ]
  },
  {
   "cell_type": "code",
   "execution_count": null,
   "metadata": {},
   "outputs": [],
   "source": []
  }
 ],
 "metadata": {
  "kernelspec": {
   "display_name": "Python 3",
   "language": "python",
   "name": "python3"
  },
  "language_info": {
   "codemirror_mode": {
    "name": "ipython",
    "version": 3
   },
   "file_extension": ".py",
   "mimetype": "text/x-python",
   "name": "python",
   "nbconvert_exporter": "python",
   "pygments_lexer": "ipython3",
   "version": "3.6.5"
  }
 },
 "nbformat": 4,
 "nbformat_minor": 2
}
